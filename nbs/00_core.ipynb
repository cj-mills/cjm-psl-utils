{
 "cells": [
  {
   "cell_type": "markdown",
   "metadata": {},
   "source": [
    "# core\n",
    "\n",
    ">  Some utility functions using the Python Standard Library. "
   ]
  },
  {
   "cell_type": "code",
   "execution_count": null,
   "metadata": {},
   "outputs": [],
   "source": [
    "#| default_exp core"
   ]
  },
  {
   "cell_type": "code",
   "execution_count": null,
   "metadata": {},
   "outputs": [],
   "source": [
    "#| hide\n",
    "from nbdev.showdoc import *"
   ]
  },
  {
   "cell_type": "code",
   "execution_count": null,
   "metadata": {},
   "outputs": [],
   "source": [
    "#| export\n",
    "import inspect"
   ]
  },
  {
   "cell_type": "code",
   "execution_count": null,
   "metadata": {},
   "outputs": [],
   "source": [
    "#| export\n",
    "def get_source_code(obj:object, # The object whose source code you want to retrieve.\n",
    "                    markdown=False): # Returns the source code formatted as markdown\n",
    "    \"\"\"\n",
    "    Returns the source code of an object, with an optional markdown formatting.\n",
    "    \"\"\"\n",
    "    # Get the source code of the object\n",
    "    source = inspect.getsource(obj)\n",
    "    \n",
    "    if markdown:\n",
    "        # Format the source code as markdown code block\n",
    "        source = f\"```python\\n{source}\\n```\"\n",
    "        \n",
    "        # Check if the code is running in Jupyter Notebook\n",
    "        try:\n",
    "            get_ipython\n",
    "            from IPython.display import Markdown\n",
    "            # Format the source code as an IPython Markdown object\n",
    "            source = Markdown(source)\n",
    "        except NameError:\n",
    "            # If not in Jupyter Notebook, do nothing\n",
    "            pass\n",
    "    # Return the formatted source code\n",
    "    return source"
   ]
  },
  {
   "cell_type": "code",
   "execution_count": null,
   "metadata": {},
   "outputs": [
    {
     "data": {
      "text/markdown": [
       "```python\n",
       "def get_source_code(obj:object, # The object whose source code you want to retrieve.\n",
       "                    markdown=False): # Returns the source code formatted as markdown\n",
       "    \"\"\"\n",
       "    Returns the source code of an object, with an optional markdown formatting.\n",
       "    \"\"\"\n",
       "    # Get the source code of the object\n",
       "    source = inspect.getsource(obj)\n",
       "    \n",
       "    if markdown:\n",
       "        # Format the source code as markdown code block\n",
       "        source = f\"```python\\n{source}\\n```\"\n",
       "        \n",
       "        # Check if the code is running in Jupyter Notebook\n",
       "        try:\n",
       "            get_ipython\n",
       "            from IPython.display import Markdown\n",
       "            # Format the source code as an IPython Markdown object\n",
       "            source = Markdown(source)\n",
       "        except NameError:\n",
       "            # If not in Jupyter Notebook, do nothing\n",
       "            pass\n",
       "    # Return the formatted source code\n",
       "    return source\n",
       "\n",
       "```"
      ],
      "text/plain": [
       "<IPython.core.display.Markdown object>"
      ]
     },
     "execution_count": null,
     "metadata": {},
     "output_type": "execute_result"
    }
   ],
   "source": [
    "get_source_code(get_source_code, markdown=True)"
   ]
  },
  {
   "cell_type": "code",
   "execution_count": null,
   "metadata": {},
   "outputs": [],
   "source": []
  },
  {
   "cell_type": "code",
   "execution_count": null,
   "metadata": {},
   "outputs": [],
   "source": [
    "#| export\n",
    "import zipfile\n",
    "import tarfile\n",
    "from pathlib import Path\n",
    "import os"
   ]
  },
  {
   "cell_type": "code",
   "execution_count": null,
   "metadata": {},
   "outputs": [],
   "source": [
    "#| export\n",
    "def file_extract(fname, # The path of the archive file\n",
    "                 dest=None): # The path of the destination directory\n",
    "    \"\"\"\n",
    "    Extract the contents of the given archive file to the destination directory.\n",
    "\n",
    "    Raises:\n",
    "        Exception: if the archive file format is not recognized (supported formats are gz and zip)\n",
    "    \"\"\"\n",
    "    \n",
    "    # If destination directory is not provided, use the parent directory of the archive file\n",
    "    if dest is None: dest = Path(fname).parent\n",
    "    \n",
    "    fname = str(fname)\n",
    "    \n",
    "    # Extract the archive file based on its format\n",
    "    if fname.endswith('gz'):\n",
    "        tarfile.open(fname, 'r:gz').extractall(dest)\n",
    "    elif fname.endswith('zip'):\n",
    "        zipfile.ZipFile(fname).extractall(dest)\n",
    "    else:\n",
    "        # Raise an exception if the archive format is not recognized\n",
    "        raise Exception(f'Unrecognized archive: {fname}')"
   ]
  },
  {
   "cell_type": "code",
   "execution_count": null,
   "metadata": {},
   "outputs": [],
   "source": [
    "fname = \"../images/images.zip\"\n",
    "dest = Path(\"./images\")"
   ]
  },
  {
   "cell_type": "code",
   "execution_count": null,
   "metadata": {},
   "outputs": [],
   "source": [
    "#| hide\n",
    "if dest.exists():\n",
    "    for _, _, files in os.walk(dest):\n",
    "        for f in files:\n",
    "            Path(dest/f).unlink()\n",
    "    dest.rmdir()"
   ]
  },
  {
   "cell_type": "code",
   "execution_count": null,
   "metadata": {},
   "outputs": [
    {
     "name": "stdout",
     "output_type": "stream",
     "text": [
      "False\n",
      "True\n",
      "['cat.jpg']\n"
     ]
    }
   ],
   "source": [
    "print(dest.exists())\n",
    "file_extract(fname, dest)\n",
    "print(dest.exists())\n",
    "print(list(os.walk(dest))[0][2])"
   ]
  },
  {
   "cell_type": "code",
   "execution_count": null,
   "metadata": {},
   "outputs": [],
   "source": []
  },
  {
   "cell_type": "code",
   "execution_count": null,
   "metadata": {},
   "outputs": [],
   "source": []
  },
  {
   "cell_type": "code",
   "execution_count": null,
   "metadata": {},
   "outputs": [],
   "source": [
    "#| hide\n",
    "import nbdev; nbdev.nbdev_export()"
   ]
  }
 ],
 "metadata": {
  "kernelspec": {
   "display_name": "Python 3 (ipykernel)",
   "language": "python",
   "name": "python3"
  }
 },
 "nbformat": 4,
 "nbformat_minor": 4
}
