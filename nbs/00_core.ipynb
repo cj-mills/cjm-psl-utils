{
 "cells": [
  {
   "cell_type": "markdown",
   "metadata": {},
   "source": [
    "# core\n",
    "\n",
    ">  Some utility functions using the Python Standard Library. "
   ]
  },
  {
   "cell_type": "code",
   "execution_count": null,
   "metadata": {},
   "outputs": [],
   "source": [
    "#| default_exp core"
   ]
  },
  {
   "cell_type": "code",
   "execution_count": null,
   "metadata": {},
   "outputs": [],
   "source": [
    "#| hide\n",
    "from nbdev.showdoc import *"
   ]
  },
  {
   "cell_type": "code",
   "execution_count": null,
   "metadata": {},
   "outputs": [],
   "source": [
    "#| export\n",
    "import inspect"
   ]
  },
  {
   "cell_type": "code",
   "execution_count": null,
   "metadata": {},
   "outputs": [],
   "source": [
    "#| export\n",
    "def get_source_code(obj:object, # The object whose source code you want to retrieve.\n",
    "                    markdown=False, # Return the source code formatted as markdown\n",
    "                    remove_documentation=False): # Remove docstrings and comments\n",
    "    \"\"\"\n",
    "    Returns the source code of an object, with an optional markdown formatting.\n",
    "    \"\"\"\n",
    "    # Get the source code of the object\n",
    "    source = inspect.getsource(obj)\n",
    "    \n",
    "    # If the remove_documentation flag is set to True, remove docstrings and comments\n",
    "    if remove_documentation:\n",
    "        in_docstring = False\n",
    "        lines = source.split('\\n')\n",
    "        source = ''\n",
    "        # Remove docstrings\n",
    "        for line in lines:\n",
    "            if line.strip().startswith(('\\'\\'\\'', '\\\"\\\"\\\"')):\n",
    "                in_docstring = not in_docstring\n",
    "            elif not in_docstring:\n",
    "                source += line + '\\n'\n",
    "        # Remove comments\n",
    "        source = '\\n'.join([line for line in source.split('\\n')\n",
    "                            if not line.strip().startswith(('#'))])\n",
    "        source = source.replace('\\n\\n', '\\n')\n",
    "\n",
    "    if markdown:\n",
    "        # Format the source code as markdown code block\n",
    "        source = f\"```python\\n{source}\\n```\"\n",
    "\n",
    "        # Check if the code is running in Jupyter Notebook\n",
    "        try:\n",
    "            get_ipython\n",
    "            from IPython.display import Markdown\n",
    "            # Format the source code as an IPython Markdown object\n",
    "            source = Markdown(source)\n",
    "        except NameError:\n",
    "            # If not in Jupyter Notebook, do nothing\n",
    "            pass\n",
    "    # Return the formatted source code\n",
    "    return source"
   ]
  },
  {
   "cell_type": "code",
   "execution_count": null,
   "metadata": {},
   "outputs": [
    {
     "data": {
      "text/markdown": [
       "```python\n",
       "def get_source_code(obj:object, # The object whose source code you want to retrieve.\n",
       "                    markdown=False, # Return the source code formatted as markdown\n",
       "                    remove_documentation=False): # Remove docstrings and comments\n",
       "    source = inspect.getsource(obj)\n",
       "    \n",
       "    if remove_documentation:\n",
       "        in_docstring = False\n",
       "        lines = source.split('\\n')\n",
       "        source = ''\n",
       "        for line in lines:\n",
       "            if line.strip().startswith(('\\'\\'\\'', '\\\"\\\"\\\"')):\n",
       "                in_docstring = not in_docstring\n",
       "            elif not in_docstring:\n",
       "                source += line + '\\n'\n",
       "        source = '\\n'.join([line for line in source.split('\\n')\n",
       "                            if not line.strip().startswith(('#'))])\n",
       "        source = source.replace('\\n\\n', '\\n')\n",
       "    if markdown:\n",
       "        source = f\"```python\\n{source}\\n```\"\n",
       "        try:\n",
       "            get_ipython\n",
       "            from IPython.display import Markdown\n",
       "            source = Markdown(source)\n",
       "        except NameError:\n",
       "            pass\n",
       "    return source\n",
       "\n",
       "```"
      ],
      "text/plain": [
       "<IPython.core.display.Markdown object>"
      ]
     },
     "execution_count": null,
     "metadata": {},
     "output_type": "execute_result"
    }
   ],
   "source": [
    "get_source_code(get_source_code, markdown=True, remove_documentation=True)"
   ]
  },
  {
   "cell_type": "code",
   "execution_count": null,
   "metadata": {},
   "outputs": [],
   "source": []
  },
  {
   "cell_type": "code",
   "execution_count": null,
   "metadata": {},
   "outputs": [],
   "source": [
    "#| export\n",
    "import zipfile\n",
    "import tarfile\n",
    "from pathlib import Path\n",
    "import os"
   ]
  },
  {
   "cell_type": "code",
   "execution_count": null,
   "metadata": {},
   "outputs": [],
   "source": [
    "#| export\n",
    "def file_extract(fname, # The path of the archive file\n",
    "                 dest=None): # The path of the destination directory\n",
    "    \"\"\"\n",
    "    Extract the contents of the given archive file to the destination directory.\n",
    "\n",
    "    Raises:\n",
    "        Exception: if the archive file format is not recognized (supported formats are gz and zip)\n",
    "    \"\"\"\n",
    "    \n",
    "    # If destination directory is not provided, use the parent directory of the archive file\n",
    "    if dest is None: dest = Path(fname).parent\n",
    "    \n",
    "    fname = str(fname)\n",
    "    \n",
    "    # Extract the archive file based on its format\n",
    "    if fname.endswith('gz'):\n",
    "        tarfile.open(fname, 'r:gz').extractall(dest)\n",
    "    elif fname.endswith('zip'):\n",
    "        zipfile.ZipFile(fname).extractall(dest)\n",
    "    else:\n",
    "        # Raise an exception if the archive format is not recognized\n",
    "        raise Exception(f'Unrecognized archive: {fname}')"
   ]
  },
  {
   "cell_type": "code",
   "execution_count": null,
   "metadata": {},
   "outputs": [],
   "source": [
    "fname = \"../images/images.zip\"\n",
    "dest = Path(\"./images\")"
   ]
  },
  {
   "cell_type": "code",
   "execution_count": null,
   "metadata": {},
   "outputs": [],
   "source": [
    "#| hide\n",
    "if dest.exists():\n",
    "    for _, _, files in os.walk(dest):\n",
    "        for f in files:\n",
    "            Path(dest/f).unlink()\n",
    "    dest.rmdir()"
   ]
  },
  {
   "cell_type": "code",
   "execution_count": null,
   "metadata": {},
   "outputs": [
    {
     "name": "stdout",
     "output_type": "stream",
     "text": [
      "False\n",
      "True\n",
      "['cat.jpg']\n"
     ]
    }
   ],
   "source": [
    "print(dest.exists())\n",
    "file_extract(fname, dest)\n",
    "print(dest.exists())\n",
    "print(list(os.walk(dest))[0][2])"
   ]
  },
  {
   "cell_type": "code",
   "execution_count": null,
   "metadata": {},
   "outputs": [],
   "source": []
  },
  {
   "cell_type": "code",
   "execution_count": null,
   "metadata": {},
   "outputs": [],
   "source": [
    "#| export\n",
    "import requests\n",
    "from tqdm.auto import tqdm"
   ]
  },
  {
   "cell_type": "code",
   "execution_count": null,
   "metadata": {},
   "outputs": [],
   "source": [
    "#| export\n",
    "def download_file(url:str, # The URL of the file to download.\n",
    "                  directory:str, # The directory where the file should be saved.\n",
    "                  overwrite:bool=False # A flag to specify whether to overwrite the file if it already exists.\n",
    "                 ):\n",
    "    \n",
    "    \"\"\"\n",
    "    Download a file from a given URL to a specified directory.\n",
    "\n",
    "    This function sends a HTTP request to the URL provided, downloads the file and saves it to the specified \n",
    "    directory. If the directory does not exist, it creates it. If the file already exists and the overwrite\n",
    "    flag is set to False, it skips the download process.\n",
    "\n",
    "    The function also displays a progress bar during the download using the tqdm module, and checks if the\n",
    "    download was successful based on the total file size. If the download is not successful, it prints an error message.\n",
    "    \"\"\"\n",
    "    \n",
    "    \n",
    "    # Create the directory if it doesn't exist\n",
    "    if not os.path.exists(directory):\n",
    "        os.makedirs(directory)\n",
    "\n",
    "    # Get file name from url to use when saving\n",
    "    filename = os.path.join(directory, url.split(\"/\")[-1])\n",
    "\n",
    "    # Check if file exists and overwrite is not allowed\n",
    "    if os.path.exists(filename) and not overwrite:\n",
    "        print(f'The file {filename} already exists and overwrite is set to False.')\n",
    "        return\n",
    "\n",
    "    # Send a HTTP request to the URL of the file\n",
    "    response = requests.get(url, stream=True)\n",
    "\n",
    "    # Check that the request was successful\n",
    "    if response.status_code == 200:\n",
    "        total_size_in_bytes= int(response.headers.get('content-length', 0))\n",
    "        block_size = 1024 #1 Kibibyte\n",
    "        progress_bar = tqdm(total=total_size_in_bytes, unit='iB', unit_scale=True)\n",
    "        with open(filename, 'wb') as file:\n",
    "            for data in response.iter_content(block_size):\n",
    "                progress_bar.update(len(data))\n",
    "                file.write(data)\n",
    "        progress_bar.close()\n",
    "        if total_size_in_bytes != 0 and progress_bar.n != total_size_in_bytes:\n",
    "            print(\"ERROR, something went wrong\")\n",
    "    else:\n",
    "        print(f'HTTP request to url: {url} failed with status code: {response.status_code}.')"
   ]
  },
  {
   "cell_type": "code",
   "execution_count": null,
   "metadata": {},
   "outputs": [],
   "source": [
    "url = \"https://raw.githubusercontent.com/cj-mills/cjm-psl-utils/main/images/cat.jpg\"\n",
    "dest = Path(\"./images\")"
   ]
  },
  {
   "cell_type": "code",
   "execution_count": null,
   "metadata": {},
   "outputs": [],
   "source": [
    "#| hide\n",
    "if dest.exists():\n",
    "    for _, _, files in os.walk(dest):\n",
    "        for f in files:\n",
    "            Path(dest/f).unlink()\n",
    "    dest.rmdir()"
   ]
  },
  {
   "cell_type": "code",
   "execution_count": null,
   "metadata": {},
   "outputs": [
    {
     "data": {
      "application/vnd.jupyter.widget-view+json": {
       "model_id": "92cb0036504e4d69b24068dc75c0fbc5",
       "version_major": 2,
       "version_minor": 0
      },
      "text/plain": [
       "  0%|          | 0.00/66.3k [00:00<?, ?iB/s]"
      ]
     },
     "metadata": {},
     "output_type": "display_data"
    }
   ],
   "source": [
    "download_file(url, dest)"
   ]
  },
  {
   "cell_type": "code",
   "execution_count": null,
   "metadata": {},
   "outputs": [],
   "source": []
  },
  {
   "cell_type": "code",
   "execution_count": null,
   "metadata": {},
   "outputs": [],
   "source": []
  },
  {
   "cell_type": "code",
   "execution_count": null,
   "metadata": {},
   "outputs": [],
   "source": []
  },
  {
   "cell_type": "code",
   "execution_count": null,
   "metadata": {},
   "outputs": [],
   "source": [
    "#| hide\n",
    "import nbdev; nbdev.nbdev_export()"
   ]
  }
 ],
 "metadata": {
  "kernelspec": {
   "display_name": "python3",
   "language": "python",
   "name": "python3"
  }
 },
 "nbformat": 4,
 "nbformat_minor": 4
}
