{
 "cells": [
  {
   "cell_type": "code",
   "execution_count": null,
   "metadata": {},
   "outputs": [],
   "source": [
    "#| hide\n",
    "from cjm_psl_utils.core import *"
   ]
  },
  {
   "cell_type": "markdown",
   "metadata": {},
   "source": [
    "# cjm-psl-utils\n",
    "\n",
    "> Some utility functions using the Python Standard Library."
   ]
  },
  {
   "cell_type": "markdown",
   "metadata": {},
   "source": [
    "This file will become your README and also the index of your documentation."
   ]
  },
  {
   "cell_type": "markdown",
   "metadata": {},
   "source": [
    "## Install"
   ]
  },
  {
   "cell_type": "markdown",
   "metadata": {},
   "source": [
    "```sh\n",
    "pip install cjm_psl_utils\n",
    "```"
   ]
  },
  {
   "cell_type": "markdown",
   "metadata": {},
   "source": [
    "## How to use"
   ]
  },
  {
   "cell_type": "markdown",
   "metadata": {},
   "source": [
    "### get_source_code"
   ]
  },
  {
   "cell_type": "code",
   "execution_count": null,
   "metadata": {},
   "outputs": [],
   "source": [
    "from cjm_psl_utils.core import get_source_code"
   ]
  },
  {
   "cell_type": "code",
   "execution_count": null,
   "metadata": {},
   "outputs": [
    {
     "data": {
      "text/markdown": [
       "```python\n",
       "def get_source_code(obj:object, # The object whose source code you want to retrieve.\n",
       "                    markdown=False, # Return the source code formatted as markdown\n",
       "                    remove_documentation=False): # Remove docstrings and comments\n",
       "    \"\"\"\n",
       "    Returns the source code of an object, with an optional markdown formatting.\n",
       "    \"\"\"\n",
       "    # Get the source code of the object\n",
       "    source = inspect.getsource(obj)\n",
       "    \n",
       "    # If the remove_documentation flag is set to True, remove docstrings and comments\n",
       "    if remove_documentation:\n",
       "        in_docstring = False\n",
       "        lines = source.split('\\n')\n",
       "        source = ''\n",
       "        # Remove docstrings\n",
       "        for line in lines:\n",
       "            if line.strip().startswith(('\\'\\'\\'', '\\\"\\\"\\\"')):\n",
       "                in_docstring = not in_docstring\n",
       "            elif not in_docstring:\n",
       "                source += line + '\\n'\n",
       "        # Remove comments\n",
       "        source = '\\n'.join([line for line in source.split('\\n')\n",
       "                            if not line.strip().startswith(('#'))])\n",
       "        source = source.replace('\\n\\n', '\\n')\n",
       "\n",
       "    if markdown:\n",
       "        # Format the source code as markdown code block\n",
       "        source = f\"```python\\n{source}\\n```\"\n",
       "\n",
       "        # Check if the code is running in Jupyter Notebook\n",
       "        try:\n",
       "            get_ipython\n",
       "            from IPython.display import Markdown\n",
       "            # Format the source code as an IPython Markdown object\n",
       "            source = Markdown(source)\n",
       "        except NameError:\n",
       "            # If not in Jupyter Notebook, do nothing\n",
       "            pass\n",
       "    # Return the formatted source code\n",
       "    return source\n",
       "\n",
       "```"
      ],
      "text/plain": [
       "<IPython.core.display.Markdown object>"
      ]
     },
     "execution_count": null,
     "metadata": {},
     "output_type": "execute_result"
    }
   ],
   "source": [
    "get_source_code(get_source_code, markdown=True)"
   ]
  },
  {
   "cell_type": "code",
   "execution_count": null,
   "metadata": {},
   "outputs": [],
   "source": [
    "from cjm_psl_utils.core import file_extract\n",
    "from pathlib import Path"
   ]
  },
  {
   "cell_type": "code",
   "execution_count": null,
   "metadata": {},
   "outputs": [],
   "source": [
    "fname = \"../images/images.zip\"\n",
    "dest = Path(\"./images\")"
   ]
  },
  {
   "cell_type": "code",
   "execution_count": null,
   "metadata": {},
   "outputs": [],
   "source": [
    "#| hide\n",
    "import os\n",
    "if dest.exists():\n",
    "    for _, _, files in os.walk(dest):\n",
    "        for f in files:\n",
    "            Path(dest/f).unlink()\n",
    "    dest.rmdir()"
   ]
  },
  {
   "cell_type": "code",
   "execution_count": null,
   "metadata": {},
   "outputs": [
    {
     "name": "stdout",
     "output_type": "stream",
     "text": [
      "False\n",
      "True\n",
      "['cat.jpg']\n"
     ]
    }
   ],
   "source": [
    "print(dest.exists())\n",
    "file_extract(fname, dest)\n",
    "print(dest.exists())\n",
    "print(list(os.walk(dest))[0][2])"
   ]
  },
  {
   "cell_type": "code",
   "execution_count": null,
   "metadata": {},
   "outputs": [],
   "source": []
  },
  {
   "cell_type": "code",
   "execution_count": null,
   "metadata": {},
   "outputs": [],
   "source": []
  }
 ],
 "metadata": {
  "kernelspec": {
   "display_name": "Python 3 (ipykernel)",
   "language": "python",
   "name": "python3"
  }
 },
 "nbformat": 4,
 "nbformat_minor": 4
}
